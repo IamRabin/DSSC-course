{
 "cells": [
  {
   "cell_type": "markdown",
   "metadata": {},
   "source": [
    "Rabindra Khadka\n",
    "\n",
    "Python Exercise 01"
   ]
  },
  {
   "cell_type": "code",
   "execution_count": 1,
   "metadata": {},
   "outputs": [],
   "source": [
    "from functools import reduce\n",
    "from collections import Counter\n",
    "import math"
   ]
  },
  {
   "cell_type": "code",
   "execution_count": 26,
   "metadata": {},
   "outputs": [],
   "source": [
    "def is_palindrome(string_var):\n",
    "    '''\n",
    "    returns True if string_var is palindrome, False otherwise\n",
    "    '''\n",
    "    return string_var == string_var[::-1]\n",
    "\n",
    "\n",
    "def histogram_letters(string_var):\n",
    "    '''\n",
    "    count how many times a letter is present in the string_var\n",
    "    and returns a dict.\n",
    "    '''\n",
    "    return dict(Counter(string_var))\n",
    "\n",
    "\n",
    "def get_most_frequent(list_var):\n",
    "    '''\n",
    "    returns a tuple with the most frequent object in the list with the\n",
    "    corresponing number\n",
    "    '''\n",
    "    return Counter(list_var).most_common(1)[0]\n",
    "\n",
    "\n",
    "def which_duplicates(list_var):\n",
    "    '''\n",
    "    return a dict with containing the repeted object and\n",
    "    the number of repetitions\n",
    "    '''\n",
    "    return {k:v for k, v in Counter(list_var).items() if v > 1}\n",
    "\n",
    "\n",
    "def compute_factorial(int_val):\n",
    "    '''\n",
    "    returns factorial of a number\n",
    "    '''\n",
    "    return reduce(lambda x, y: x * y, range(1, int_val + 1))\n",
    "\n",
    "\n",
    "def is_prime(num):\n",
    "    '''\n",
    "    returns True if int_val is prime, False otherwise\n",
    "    '''\n",
    "    if num > 2:\n",
    "        for i in range(2,num):\n",
    "            if (num % i) == 0:\n",
    "                return False\n",
    "                break\n",
    "        else:  \n",
    "            return True\n",
    "    else:\n",
    "        return False\n",
    "    \n",
    "     "
   ]
  },
  {
   "cell_type": "code",
   "execution_count": 9,
   "metadata": {},
   "outputs": [
    {
     "name": "stdout",
     "output_type": "stream",
     "text": [
      "True\n"
     ]
    }
   ],
   "source": [
    "print(is_palindrome(\"MOM\"))"
   ]
  },
  {
   "cell_type": "code",
   "execution_count": 11,
   "metadata": {},
   "outputs": [
    {
     "name": "stdout",
     "output_type": "stream",
     "text": [
      "{'H': 1, 'u': 2, 'm': 2, 'p': 2, 't': 2, 'y': 2, ' ': 2, 'D': 1, '!': 1}\n"
     ]
    }
   ],
   "source": [
    "print(histogram_letters(\"Humpty Dumpty !\"))"
   ]
  },
  {
   "cell_type": "code",
   "execution_count": 30,
   "metadata": {},
   "outputs": [
    {
     "name": "stdout",
     "output_type": "stream",
     "text": [
      "(66, 3)\n"
     ]
    }
   ],
   "source": [
    "print(get_most_frequent([1,1,2,3,4,5,5,56,6,66,66,66,45]))\n"
   ]
  },
  {
   "cell_type": "code",
   "execution_count": 12,
   "metadata": {},
   "outputs": [
    {
     "name": "stdout",
     "output_type": "stream",
     "text": [
      "{'r': 3}\n"
     ]
    }
   ],
   "source": [
    "print(which_duplicates(\"Clickerrr\"))"
   ]
  },
  {
   "cell_type": "code",
   "execution_count": 27,
   "metadata": {},
   "outputs": [
    {
     "name": "stdout",
     "output_type": "stream",
     "text": [
      "True\n",
      "False\n"
     ]
    }
   ],
   "source": [
    "print(is_prime(31))\n",
    "print(is_prime(99))\n"
   ]
  },
  {
   "cell_type": "code",
   "execution_count": null,
   "metadata": {},
   "outputs": [],
   "source": []
  }
 ],
 "metadata": {
  "kernelspec": {
   "display_name": "Python 3",
   "language": "python",
   "name": "python3"
  },
  "language_info": {
   "codemirror_mode": {
    "name": "ipython",
    "version": 3
   },
   "file_extension": ".py",
   "mimetype": "text/x-python",
   "name": "python",
   "nbconvert_exporter": "python",
   "pygments_lexer": "ipython3",
   "version": "3.7.0"
  }
 },
 "nbformat": 4,
 "nbformat_minor": 2
}
