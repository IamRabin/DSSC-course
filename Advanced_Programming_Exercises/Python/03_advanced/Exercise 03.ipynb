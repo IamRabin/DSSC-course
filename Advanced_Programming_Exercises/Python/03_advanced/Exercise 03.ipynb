{
 "cells": [
  {
   "cell_type": "code",
   "execution_count": 4,
   "metadata": {},
   "outputs": [
    {
     "name": "stdout",
     "output_type": "stream",
     "text": [
      "four\n",
      "four\n",
      "four\n",
      "four\n",
      "seven \n",
      "seven \n",
      "seven \n",
      "seven \n",
      "seven \n",
      "seven \n",
      "six \n",
      "six \n",
      "six \n",
      "six \n",
      "six \n",
      "six \n"
     ]
    }
   ],
   "source": [
    "class MyRange():\n",
    "    \"\"\"\n",
    "    Class MyRange that acts like a range.\n",
    "    \"\"\"      \n",
    "    def __init__(self, start, stop, step=1):\n",
    "        \"\"\"\n",
    "        Initialize the range member of the MyRange class.\n",
    "        \"\"\"\n",
    "        self.range = range(start, stop, step)\n",
    "        \n",
    "def myrange(*args):\n",
    "    \"\"\"\n",
    "    Returns a custom range, managing argument errors.\n",
    "    \"\"\"\n",
    "    num_args = len(args)\n",
    "    if num_args not in [1,2,3]:\n",
    "        raise TypeError(\"myrange should have at most three arguments and at least one!\")\n",
    "    if num_args==1:\n",
    "        return MyRange(0,args[0]).range\n",
    "    elif num_args==2:\n",
    "        return MyRange(args[0],args[1]).range\n",
    "    elif num_args==3:\n",
    "        return MyRange(args[0],args[1],args[2]).range\n",
    "    \n",
    "for i in myrange(4):\n",
    "    print('four')\n",
    "    \n",
    "for i in myrange(3,9):\n",
    "    print('seven ')\n",
    "\n",
    "for i in myrange(0,11,2):\n",
    "    print('six ')"
   ]
  },
  {
   "cell_type": "code",
   "execution_count": 10,
   "metadata": {},
   "outputs": [
    {
     "name": "stdout",
     "output_type": "stream",
     "text": [
      "Total time required: 0.002025628000069446 seconds\n",
      "Result: 9998\n"
     ]
    }
   ],
   "source": [
    "import time\n",
    "\n",
    "class Timer:\n",
    "    def __enter__(self):\n",
    "        self.start = time.perf_counter()\n",
    "    \n",
    "    def __exit__(self, exc_type, exc_value, traceback):\n",
    "        self.end = time.perf_counter()\n",
    "        elapsed = self.end - self.start\n",
    "        print(\"Total time required:\", elapsed, 'seconds')\n",
    "\n",
    "val = 0\n",
    "with Timer() as timer:\n",
    "    for i in range(5000):\n",
    "        double = 2*i\n",
    "print(\"Result:\",double)"
   ]
  },
  {
   "cell_type": "code",
   "execution_count": null,
   "metadata": {},
   "outputs": [],
   "source": []
  }
 ],
 "metadata": {
  "kernelspec": {
   "display_name": "Python 3",
   "language": "python",
   "name": "python3"
  },
  "language_info": {
   "codemirror_mode": {
    "name": "ipython",
    "version": 3
   },
   "file_extension": ".py",
   "mimetype": "text/x-python",
   "name": "python",
   "nbconvert_exporter": "python",
   "pygments_lexer": "ipython3",
   "version": "3.7.0"
  }
 },
 "nbformat": 4,
 "nbformat_minor": 2
}
